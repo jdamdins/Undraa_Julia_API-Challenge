{
 "cells": [
  {
   "cell_type": "markdown",
   "metadata": {},
   "source": [
    "# WeatherPy\n",
    "----\n",
    "\n",
    "#### Note\n",
    "* Instructions have been included for each segment. You do not have to follow them exactly, but they are included to help you think through the steps."
   ]
  },
  {
   "cell_type": "code",
   "execution_count": 1,
   "metadata": {},
   "outputs": [],
   "source": [
    "# !pip install citipy"
   ]
  },
  {
   "cell_type": "code",
   "execution_count": 2,
   "metadata": {
    "scrolled": true
   },
   "outputs": [],
   "source": [
    "# Dependencies and Setup\n",
    "import matplotlib.pyplot as plt\n",
    "import pandas as pd\n",
    "import numpy as np\n",
    "import requests\n",
    "import time\n",
    "from scipy.stats import linregress\n",
    "\n",
    "# Import API key\n",
    "from api_keys import api_key\n",
    "temp_units = \"imperial\"\n",
    "\n",
    "# Incorporated citipy to determine city based on latitude and longitude\n",
    "from citipy import citipy\n",
    "\n",
    "# Output File (CSV)\n",
    "output_data_file = 'Output/weather_df.csv'\n",
    "\n",
    "# Range of latitudes and longitudes\n",
    "lat_range = (-90, 90)\n",
    "lng_range = (-180, 180)\n",
    "\n",
    "# define url\n",
    "query_url = f\"http://api.openweathermap.org/data/2.5/weather?appid={api_key}&units={temp_units}&q=\"\n",
    "\n",
    "# define count of pass throughs\n",
    "count_one = 0\n",
    "set_one = 1"
   ]
  },
  {
   "cell_type": "markdown",
   "metadata": {},
   "source": [
    "## Generate Cities List"
   ]
  },
  {
   "cell_type": "code",
   "execution_count": 3,
   "metadata": {},
   "outputs": [
    {
     "data": {
      "text/plain": [
       "633"
      ]
     },
     "execution_count": 3,
     "metadata": {},
     "output_type": "execute_result"
    }
   ],
   "source": [
    "# List for holding lat_lngs and cities\n",
    "lat_lngs = []\n",
    "cities = []\n",
    "\n",
    "# Create a set of random lat and lng combinations\n",
    "lats = np.random.uniform(low=-90.000, high=90.000, size=1500)\n",
    "lngs = np.random.uniform(low=-180.000, high=180.000, size=1500)\n",
    "lat_lngs = zip(lats, lngs)\n",
    "\n",
    "# Identify nearest city for each lat, lng combination\n",
    "for lat_lng in lat_lngs:\n",
    "    city = citipy.nearest_city(lat_lng[0], lat_lng[1]).city_name\n",
    "    \n",
    "# If the city is unique, then add it to a our cities list\n",
    "    if city not in cities:\n",
    "        cities.append(city)\n",
    "\n",
    "# Print the city count to confirm sufficient count\n",
    "len(cities)\n"
   ]
  },
  {
   "cell_type": "markdown",
   "metadata": {},
   "source": [
    "### Perform API Calls\n",
    "* Perform a weather check on each city using a series of successive API calls.\n",
    "* Include a print log of each city as it'sbeing processed (with the city number and city name).\n"
   ]
  },
  {
   "cell_type": "code",
   "execution_count": 4,
   "metadata": {},
   "outputs": [
    {
     "name": "stdout",
     "output_type": "stream",
     "text": [
      "Processing Record 1 of Set 1 | hamilton\n",
      "Processing Record 2 of Set 1 | mattoon\n",
      "Processing Record 3 of Set 1 | yellowknife\n",
      "Processing Record 4 of Set 1 | albany\n",
      "City not found. Skipping...\n",
      "Processing Record 5 of Set 1 | hobart\n",
      "Processing Record 6 of Set 1 | jamestown\n",
      "Processing Record 7 of Set 1 | kavieng\n",
      "Processing Record 8 of Set 1 | punta arenas\n",
      "Processing Record 9 of Set 1 | mataura\n",
      "Processing Record 10 of Set 1 | vaini\n",
      "Processing Record 11 of Set 1 | upernavik\n",
      "Processing Record 12 of Set 1 | puerto carreno\n",
      "Processing Record 13 of Set 1 | raudeberg\n",
      "Processing Record 14 of Set 1 | codrington\n",
      "City not found. Skipping...\n",
      "Processing Record 15 of Set 1 | bajil\n",
      "Processing Record 16 of Set 1 | lompoc\n",
      "Processing Record 17 of Set 1 | rikitea\n",
      "Processing Record 18 of Set 1 | pedreiras\n",
      "Processing Record 19 of Set 1 | predivinsk\n",
      "Processing Record 20 of Set 1 | sitka\n",
      "City not found. Skipping...\n",
      "Processing Record 21 of Set 1 | zhezkazgan\n",
      "Processing Record 22 of Set 1 | portland\n",
      "Processing Record 23 of Set 1 | nanortalik\n",
      "Processing Record 24 of Set 1 | riyadh\n",
      "Processing Record 25 of Set 1 | cape town\n",
      "Processing Record 26 of Set 1 | busselton\n",
      "Processing Record 27 of Set 1 | cerrito\n",
      "Processing Record 28 of Set 1 | kapaa\n",
      "Processing Record 29 of Set 1 | lebu\n",
      "Processing Record 30 of Set 1 | mahebourg\n",
      "Processing Record 31 of Set 1 | ribeira grande\n",
      "Processing Record 32 of Set 1 | kamaishi\n",
      "Processing Record 33 of Set 1 | mys shmidta\n",
      "Processing Record 34 of Set 1 | ushuaia\n",
      "Processing Record 35 of Set 1 | saldanha\n",
      "Processing Record 36 of Set 1 | linhares\n",
      "Processing Record 37 of Set 1 | avarua\n",
      "Processing Record 38 of Set 1 | dinguiraye\n",
      "City not found. Skipping...\n",
      "City not found. Skipping...\n",
      "Processing Record 39 of Set 1 | palasa\n",
      "Processing Record 40 of Set 1 | teahupoo\n",
      "Processing Record 41 of Set 1 | hilo\n",
      "Processing Record 42 of Set 1 | san giustino\n",
      "Processing Record 43 of Set 1 | isangel\n",
      "Processing Record 44 of Set 1 | bredy\n",
      "City not found. Skipping...\n",
      "Processing Record 45 of Set 1 | east london\n",
      "Processing Record 46 of Set 1 | matamoros\n",
      "Processing Record 47 of Set 1 | zharkent\n",
      "Processing Record 48 of Set 1 | port elizabeth\n",
      "Processing Record 49 of Set 1 | bahia blanca\n",
      "Processing Record 1 of Set 2 | saint-philippe\n",
      "City not found. Skipping...\n",
      "Processing Record 2 of Set 2 | kodiak\n",
      "City not found. Skipping...\n",
      "Processing Record 3 of Set 2 | cocorit\n",
      "Processing Record 4 of Set 2 | turan\n",
      "City not found. Skipping...\n",
      "Processing Record 5 of Set 2 | chulumani\n",
      "Processing Record 6 of Set 2 | altay\n",
      "Processing Record 7 of Set 2 | martinsicuro\n",
      "Processing Record 8 of Set 2 | matagami\n",
      "Processing Record 9 of Set 2 | havelock\n",
      "Processing Record 10 of Set 2 | hermanus\n",
      "Processing Record 11 of Set 2 | saskylakh\n",
      "Processing Record 12 of Set 2 | hun\n",
      "Processing Record 13 of Set 2 | eina\n",
      "Processing Record 14 of Set 2 | qaanaaq\n",
      "Processing Record 15 of Set 2 | dikson\n",
      "Processing Record 16 of Set 2 | port lincoln\n",
      "Processing Record 17 of Set 2 | lagoa\n",
      "Processing Record 18 of Set 2 | luderitz\n",
      "Processing Record 19 of Set 2 | tuktoyaktuk\n",
      "Processing Record 20 of Set 2 | baryshivka\n",
      "Processing Record 21 of Set 2 | nizwa\n",
      "City not found. Skipping...\n",
      "Processing Record 22 of Set 2 | udachnyy\n",
      "Processing Record 23 of Set 2 | aksarka\n",
      "Processing Record 24 of Set 2 | novobirilyussy\n",
      "Processing Record 25 of Set 2 | tiznit\n",
      "Processing Record 26 of Set 2 | katherine\n",
      "City not found. Skipping...\n",
      "Processing Record 27 of Set 2 | souillac\n",
      "Processing Record 28 of Set 2 | nambucca heads\n",
      "Processing Record 29 of Set 2 | ust-ilimsk\n",
      "Processing Record 30 of Set 2 | poum\n",
      "Processing Record 31 of Set 2 | new norfolk\n",
      "Processing Record 32 of Set 2 | butaritari\n",
      "Processing Record 33 of Set 2 | tiksi\n",
      "Processing Record 34 of Set 2 | lixourion\n",
      "Processing Record 35 of Set 2 | salalah\n",
      "Processing Record 36 of Set 2 | atuona\n",
      "Processing Record 37 of Set 2 | beringovskiy\n",
      "Processing Record 38 of Set 2 | yeppoon\n",
      "City not found. Skipping...\n",
      "Processing Record 39 of Set 2 | mount gambier\n",
      "Processing Record 40 of Set 2 | klaksvik\n",
      "Processing Record 41 of Set 2 | beloha\n",
      "Processing Record 42 of Set 2 | estelle\n",
      "Processing Record 43 of Set 2 | geraldton\n",
      "Processing Record 44 of Set 2 | bluff\n",
      "Processing Record 45 of Set 2 | takab\n",
      "Processing Record 46 of Set 2 | sur\n",
      "Processing Record 47 of Set 2 | kolosovka\n",
      "Processing Record 48 of Set 2 | nikolayevsk-na-amure\n",
      "Processing Record 49 of Set 2 | clyde river\n",
      "Processing Record 1 of Set 3 | leo\n",
      "Processing Record 2 of Set 3 | port alfred\n",
      "Processing Record 3 of Set 3 | faanui\n",
      "City not found. Skipping...\n",
      "City not found. Skipping...\n",
      "Processing Record 4 of Set 3 | sinnamary\n",
      "Processing Record 5 of Set 3 | petropavlovsk-kamchatskiy\n",
      "Processing Record 6 of Set 3 | mangai\n",
      "Processing Record 7 of Set 3 | nikolskoye\n",
      "Processing Record 8 of Set 3 | dingli\n",
      "Processing Record 9 of Set 3 | inhambane\n",
      "City not found. Skipping...\n",
      "Processing Record 10 of Set 3 | kontagora\n",
      "Processing Record 11 of Set 3 | mandalgovi\n",
      "Processing Record 12 of Set 3 | tura\n",
      "City not found. Skipping...\n",
      "City not found. Skipping...\n",
      "Processing Record 13 of Set 3 | deputatskiy\n",
      "Processing Record 14 of Set 3 | havoysund\n",
      "Processing Record 15 of Set 3 | zaragoza\n",
      "Processing Record 16 of Set 3 | tsaratanana\n",
      "Processing Record 17 of Set 3 | port hardy\n",
      "Processing Record 18 of Set 3 | quba\n",
      "Processing Record 19 of Set 3 | iqaluit\n",
      "Processing Record 20 of Set 3 | challapata\n",
      "Processing Record 21 of Set 3 | georgetown\n",
      "Processing Record 22 of Set 3 | hohhot\n",
      "Processing Record 23 of Set 3 | pervomayskoye\n",
      "Processing Record 24 of Set 3 | carnarvon\n",
      "Processing Record 25 of Set 3 | chingirlau\n",
      "Processing Record 26 of Set 3 | conakry\n",
      "Processing Record 27 of Set 3 | pontes e lacerda\n",
      "Processing Record 28 of Set 3 | urumqi\n",
      "Processing Record 29 of Set 3 | high level\n",
      "Processing Record 30 of Set 3 | huilong\n",
      "Processing Record 31 of Set 3 | bredasdorp\n",
      "Processing Record 32 of Set 3 | fairbanks\n",
      "City not found. Skipping...\n",
      "City not found. Skipping...\n",
      "Processing Record 33 of Set 3 | touho\n",
      "Processing Record 34 of Set 3 | mbanza-ngungu\n",
      "Processing Record 35 of Set 3 | thompson\n",
      "Processing Record 36 of Set 3 | karratha\n",
      "Processing Record 37 of Set 3 | barrow\n",
      "Processing Record 38 of Set 3 | abha\n",
      "Processing Record 39 of Set 3 | longyearbyen\n",
      "Processing Record 40 of Set 3 | puerto ayora\n",
      "Processing Record 41 of Set 3 | grand river south east\n",
      "Processing Record 42 of Set 3 | airai\n",
      "Processing Record 43 of Set 3 | lorengau\n",
      "Processing Record 44 of Set 3 | maragogi\n",
      "Processing Record 45 of Set 3 | lar\n",
      "Processing Record 46 of Set 3 | emerald\n",
      "Processing Record 47 of Set 3 | kaitangata\n",
      "Processing Record 48 of Set 3 | bauchi\n",
      "City not found. Skipping...\n",
      "Processing Record 49 of Set 3 | manaure\n",
      "Processing Record 1 of Set 4 | reserva\n",
      "Processing Record 2 of Set 4 | hithadhoo\n",
      "Processing Record 3 of Set 4 | wewak\n",
      "Processing Record 4 of Set 4 | khandyga\n",
      "Processing Record 5 of Set 4 | najran\n",
      "Processing Record 6 of Set 4 | seymchan\n",
      "Processing Record 7 of Set 4 | toora-khem\n",
      "Processing Record 8 of Set 4 | stornoway\n",
      "Processing Record 9 of Set 4 | barcelos\n",
      "Processing Record 10 of Set 4 | severo-kurilsk\n",
      "City not found. Skipping...\n",
      "Processing Record 11 of Set 4 | sao joao da barra\n",
      "Processing Record 12 of Set 4 | leningradskiy\n",
      "Processing Record 13 of Set 4 | mae hong son\n",
      "City not found. Skipping...\n",
      "Processing Record 14 of Set 4 | sorland\n",
      "Processing Record 15 of Set 4 | bambous virieux\n",
      "Processing Record 16 of Set 4 | risod\n",
      "Processing Record 17 of Set 4 | ruwi\n",
      "Processing Record 18 of Set 4 | bethel\n",
      "Processing Record 19 of Set 4 | torbay\n",
      "Processing Record 20 of Set 4 | devin\n",
      "Processing Record 21 of Set 4 | tasiilaq\n",
      "Processing Record 22 of Set 4 | egvekinot\n",
      "Processing Record 23 of Set 4 | sobolivka\n",
      "Processing Record 24 of Set 4 | rocha\n",
      "Processing Record 25 of Set 4 | akyab\n",
      "City not found. Skipping...\n",
      "Processing Record 26 of Set 4 | mehamn\n",
      "City not found. Skipping...\n",
      "Processing Record 27 of Set 4 | grindavik\n",
      "Processing Record 28 of Set 4 | hervey bay\n",
      "Processing Record 29 of Set 4 | khatanga\n",
      "Processing Record 30 of Set 4 | zhangjiakou\n",
      "Processing Record 31 of Set 4 | pevek\n",
      "Processing Record 32 of Set 4 | omsukchan\n",
      "Processing Record 33 of Set 4 | santa marta\n",
      "City not found. Skipping...\n",
      "Processing Record 34 of Set 4 | chicama\n",
      "Processing Record 35 of Set 4 | korgen\n",
      "Processing Record 36 of Set 4 | coquimbo\n",
      "Processing Record 37 of Set 4 | bourail\n"
     ]
    },
    {
     "name": "stdout",
     "output_type": "stream",
     "text": [
      "Processing Record 38 of Set 4 | sinaloa\n",
      "Processing Record 39 of Set 4 | puerto madero\n",
      "Processing Record 40 of Set 4 | gornopravdinsk\n",
      "Processing Record 41 of Set 4 | vanimo\n",
      "Processing Record 42 of Set 4 | iglesias\n",
      "Processing Record 43 of Set 4 | tevaitoa\n",
      "Processing Record 44 of Set 4 | coahuayana\n",
      "Processing Record 45 of Set 4 | kharan\n",
      "City not found. Skipping...\n",
      "Processing Record 46 of Set 4 | sao jose da coroa grande\n",
      "Processing Record 47 of Set 4 | port-gentil\n",
      "Processing Record 48 of Set 4 | rockland\n",
      "Processing Record 49 of Set 4 | inongo\n",
      "Processing Record 1 of Set 5 | port jervis\n",
      "Processing Record 2 of Set 5 | nhulunbuy\n",
      "Processing Record 3 of Set 5 | waipawa\n",
      "Processing Record 4 of Set 5 | samarai\n",
      "Processing Record 5 of Set 5 | andenes\n",
      "Processing Record 6 of Set 5 | savannah bight\n",
      "Processing Record 7 of Set 5 | chiredzi\n",
      "Processing Record 8 of Set 5 | mathbaria\n",
      "Processing Record 9 of Set 5 | bangangte\n",
      "Processing Record 10 of Set 5 | sao filipe\n",
      "Processing Record 11 of Set 5 | panubigan\n",
      "Processing Record 12 of Set 5 | paamiut\n",
      "Processing Record 13 of Set 5 | cavalcante\n",
      "Processing Record 14 of Set 5 | tuatapere\n",
      "Processing Record 15 of Set 5 | lazdijai\n",
      "Processing Record 16 of Set 5 | jiazi\n",
      "Processing Record 17 of Set 5 | laguna\n",
      "Processing Record 18 of Set 5 | maple creek\n",
      "Processing Record 19 of Set 5 | cidreira\n",
      "Processing Record 20 of Set 5 | ndioum\n",
      "City not found. Skipping...\n",
      "Processing Record 21 of Set 5 | provideniya\n",
      "Processing Record 22 of Set 5 | japura\n",
      "Processing Record 23 of Set 5 | chitral\n",
      "Processing Record 24 of Set 5 | hami\n",
      "Processing Record 25 of Set 5 | leh\n",
      "Processing Record 26 of Set 5 | ponta do sol\n",
      "Processing Record 27 of Set 5 | cururupu\n",
      "Processing Record 28 of Set 5 | honningsvag\n",
      "Processing Record 29 of Set 5 | camocim\n",
      "Processing Record 30 of Set 5 | lovozero\n",
      "Processing Record 31 of Set 5 | sabang\n",
      "Processing Record 32 of Set 5 | kungurtug\n",
      "Processing Record 33 of Set 5 | sterling\n",
      "Processing Record 34 of Set 5 | takoradi\n",
      "Processing Record 35 of Set 5 | marana\n",
      "Processing Record 36 of Set 5 | shingu\n",
      "Processing Record 37 of Set 5 | turukhansk\n",
      "Processing Record 38 of Set 5 | nouadhibou\n",
      "Processing Record 39 of Set 5 | kruisfontein\n",
      "Processing Record 40 of Set 5 | mar del plata\n",
      "Processing Record 41 of Set 5 | aguilas\n",
      "Processing Record 42 of Set 5 | vestmannaeyjar\n",
      "Processing Record 43 of Set 5 | taltal\n",
      "Processing Record 44 of Set 5 | carlsbad\n",
      "Processing Record 45 of Set 5 | tumaco\n",
      "Processing Record 46 of Set 5 | nangong\n",
      "Processing Record 47 of Set 5 | biak\n",
      "Processing Record 48 of Set 5 | matara\n",
      "Processing Record 49 of Set 5 | reconquista\n",
      "City not found. Skipping...\n",
      "Processing Record 1 of Set 6 | saint-joseph\n",
      "Processing Record 2 of Set 6 | gazli\n",
      "Processing Record 3 of Set 6 | sistranda\n",
      "Processing Record 4 of Set 6 | coracora\n",
      "Processing Record 5 of Set 6 | chuy\n",
      "City not found. Skipping...\n",
      "City not found. Skipping...\n",
      "Processing Record 6 of Set 6 | tecoanapa\n",
      "Processing Record 7 of Set 6 | fairlie\n",
      "Processing Record 8 of Set 6 | along\n",
      "Processing Record 9 of Set 6 | urucara\n",
      "Processing Record 10 of Set 6 | leonidovo\n",
      "Processing Record 11 of Set 6 | lata\n",
      "Processing Record 12 of Set 6 | batagay-alyta\n",
      "Processing Record 13 of Set 6 | inta\n",
      "City not found. Skipping...\n",
      "Processing Record 14 of Set 6 | ostrovnoy\n",
      "Processing Record 15 of Set 6 | tabriz\n",
      "Processing Record 16 of Set 6 | krasnoselkup\n",
      "Processing Record 17 of Set 6 | macapa\n",
      "Processing Record 18 of Set 6 | bathsheba\n",
      "Processing Record 19 of Set 6 | avera\n",
      "Processing Record 20 of Set 6 | preobrazheniye\n",
      "Processing Record 21 of Set 6 | high rock\n",
      "Processing Record 22 of Set 6 | pula\n",
      "Processing Record 23 of Set 6 | kahului\n",
      "Processing Record 24 of Set 6 | ous\n",
      "Processing Record 25 of Set 6 | karpogory\n",
      "Processing Record 26 of Set 6 | chimbote\n",
      "Processing Record 27 of Set 6 | anju\n",
      "Processing Record 28 of Set 6 | castro\n",
      "Processing Record 29 of Set 6 | yerbogachen\n",
      "Processing Record 30 of Set 6 | puri\n",
      "Processing Record 31 of Set 6 | talnakh\n",
      "Processing Record 32 of Set 6 | darhan\n",
      "Processing Record 33 of Set 6 | ostroleka\n",
      "Processing Record 34 of Set 6 | abu dhabi\n",
      "City not found. Skipping...\n",
      "Processing Record 35 of Set 6 | fort walton beach\n",
      "Processing Record 36 of Set 6 | yevsino\n",
      "City not found. Skipping...\n",
      "Processing Record 37 of Set 6 | adzope\n",
      "Processing Record 38 of Set 6 | grand-santi\n",
      "City not found. Skipping...\n",
      "Processing Record 39 of Set 6 | victoria\n",
      "Processing Record 40 of Set 6 | college\n",
      "Processing Record 41 of Set 6 | vilyuysk\n",
      "Processing Record 42 of Set 6 | guerrero negro\n",
      "Processing Record 43 of Set 6 | xuanzhou\n",
      "Processing Record 44 of Set 6 | buenos aires\n",
      "City not found. Skipping...\n",
      "Processing Record 45 of Set 6 | taoudenni\n",
      "City not found. Skipping...\n",
      "Processing Record 46 of Set 6 | fengcheng\n",
      "Processing Record 47 of Set 6 | mweka\n",
      "Processing Record 48 of Set 6 | baykit\n",
      "Processing Record 49 of Set 6 | zabaykalsk\n",
      "City not found. Skipping...\n",
      "City not found. Skipping...\n",
      "Processing Record 1 of Set 7 | gillette\n",
      "Processing Record 2 of Set 7 | jiblah\n",
      "Processing Record 3 of Set 7 | rawson\n",
      "Processing Record 4 of Set 7 | hasaki\n",
      "Processing Record 5 of Set 7 | soyo\n",
      "Processing Record 6 of Set 7 | agirish\n",
      "Processing Record 7 of Set 7 | mata\n",
      "Processing Record 8 of Set 7 | opuwo\n",
      "Processing Record 9 of Set 7 | pacific grove\n",
      "Processing Record 10 of Set 7 | polyarnyy\n",
      "Processing Record 11 of Set 7 | westport\n",
      "Processing Record 12 of Set 7 | bahia de caraquez\n",
      "Processing Record 13 of Set 7 | ulagan\n",
      "Processing Record 14 of Set 7 | azangaro\n",
      "Processing Record 15 of Set 7 | coihaique\n",
      "City not found. Skipping...\n",
      "Processing Record 16 of Set 7 | churapcha\n",
      "Processing Record 17 of Set 7 | pisco\n",
      "City not found. Skipping...\n",
      "Processing Record 18 of Set 7 | palaikastron\n",
      "Processing Record 19 of Set 7 | senanga\n",
      "Processing Record 20 of Set 7 | safaga\n",
      "Processing Record 21 of Set 7 | tevriz\n",
      "Processing Record 22 of Set 7 | bapatla\n",
      "Processing Record 23 of Set 7 | ilulissat\n",
      "Processing Record 24 of Set 7 | araria\n",
      "Processing Record 25 of Set 7 | morgantown\n",
      "Processing Record 26 of Set 7 | bengkulu\n",
      "Processing Record 27 of Set 7 | bure\n",
      "City not found. Skipping...\n",
      "Processing Record 28 of Set 7 | puerto escondido\n",
      "Processing Record 29 of Set 7 | mount isa\n",
      "Processing Record 30 of Set 7 | wexford\n",
      "Processing Record 31 of Set 7 | narasannapeta\n",
      "Processing Record 32 of Set 7 | tha mai\n",
      "Processing Record 33 of Set 7 | sao miguel do oeste\n",
      "Processing Record 34 of Set 7 | neuquen\n",
      "Processing Record 35 of Set 7 | plaza de caisan\n",
      "Processing Record 36 of Set 7 | mana\n",
      "Processing Record 37 of Set 7 | isla mujeres\n",
      "Processing Record 38 of Set 7 | naze\n",
      "Processing Record 39 of Set 7 | port blair\n",
      "Processing Record 40 of Set 7 | tessalit\n",
      "Processing Record 41 of Set 7 | san carlos\n",
      "Processing Record 42 of Set 7 | jining\n",
      "Processing Record 43 of Set 7 | olafsvik\n",
      "Processing Record 44 of Set 7 | vila velha\n",
      "Processing Record 45 of Set 7 | flinders\n",
      "Processing Record 46 of Set 7 | moerai\n",
      "Processing Record 47 of Set 7 | haverfordwest\n",
      "Processing Record 48 of Set 7 | lugovoy\n",
      "Processing Record 49 of Set 7 | miri\n",
      "Processing Record 1 of Set 8 | lamu\n",
      "Processing Record 2 of Set 8 | sakakah\n",
      "Processing Record 3 of Set 8 | guanare\n",
      "Processing Record 4 of Set 8 | arraial do cabo\n",
      "Processing Record 5 of Set 8 | chernyshevskiy\n",
      "City not found. Skipping...\n",
      "Processing Record 6 of Set 8 | baijiantan\n",
      "Processing Record 7 of Set 8 | esperance\n",
      "Processing Record 8 of Set 8 | alofi\n",
      "City not found. Skipping...\n",
      "Processing Record 9 of Set 8 | inverness\n",
      "Processing Record 10 of Set 8 | ancud\n",
      "Processing Record 11 of Set 8 | salair\n",
      "Processing Record 12 of Set 8 | brazzaville\n",
      "Processing Record 13 of Set 8 | salinas\n",
      "Processing Record 14 of Set 8 | nuuk\n",
      "Processing Record 15 of Set 8 | mettet\n",
      "City not found. Skipping...\n",
      "Processing Record 16 of Set 8 | mayo\n",
      "City not found. Skipping...\n",
      "Processing Record 17 of Set 8 | chokurdakh\n",
      "City not found. Skipping...\n",
      "Processing Record 18 of Set 8 | amuntai\n",
      "Processing Record 19 of Set 8 | grand gaube\n",
      "Processing Record 20 of Set 8 | solnechnyy\n",
      "Processing Record 21 of Set 8 | pathalgaon\n",
      "Processing Record 22 of Set 8 | trairi\n",
      "Processing Record 23 of Set 8 | bilibino\n",
      "Processing Record 24 of Set 8 | tricase\n",
      "Processing Record 25 of Set 8 | manokwari\n",
      "City not found. Skipping...\n",
      "Processing Record 26 of Set 8 | catalina\n",
      "Processing Record 27 of Set 8 | maraba\n"
     ]
    },
    {
     "name": "stdout",
     "output_type": "stream",
     "text": [
      "Processing Record 28 of Set 8 | acarau\n",
      "Processing Record 29 of Set 8 | kutum\n",
      "Processing Record 30 of Set 8 | huarmey\n",
      "Processing Record 31 of Set 8 | colombo\n",
      "City not found. Skipping...\n",
      "Processing Record 32 of Set 8 | grand baie\n",
      "Processing Record 33 of Set 8 | cockburn town\n",
      "Processing Record 34 of Set 8 | zakamensk\n",
      "Processing Record 35 of Set 8 | noumea\n",
      "Processing Record 36 of Set 8 | karera\n",
      "Processing Record 37 of Set 8 | narsaq\n",
      "Processing Record 38 of Set 8 | meulaboh\n",
      "Processing Record 39 of Set 8 | talcahuano\n",
      "Processing Record 40 of Set 8 | saint-augustin\n",
      "Processing Record 41 of Set 8 | aleksandrov gay\n",
      "Processing Record 42 of Set 8 | keuruu\n",
      "Processing Record 43 of Set 8 | vostok\n",
      "Processing Record 44 of Set 8 | urla\n",
      "Processing Record 45 of Set 8 | polessk\n",
      "Processing Record 46 of Set 8 | cherskiy\n",
      "City not found. Skipping...\n",
      "Processing Record 47 of Set 8 | sechura\n",
      "Processing Record 48 of Set 8 | juybar\n",
      "Processing Record 49 of Set 8 | virden\n",
      "Processing Record 1 of Set 9 | ginda\n",
      "Processing Record 2 of Set 9 | kenai\n",
      "Processing Record 3 of Set 9 | half moon bay\n",
      "Processing Record 4 of Set 9 | pafos\n",
      "Processing Record 5 of Set 9 | basco\n",
      "Processing Record 6 of Set 9 | koshurnikovo\n",
      "Processing Record 7 of Set 9 | san juan\n",
      "Processing Record 8 of Set 9 | kitimat\n",
      "Processing Record 9 of Set 9 | boa vista\n",
      "Processing Record 10 of Set 9 | fortuna\n",
      "Processing Record 11 of Set 9 | lavrentiya\n",
      "City not found. Skipping...\n",
      "Processing Record 12 of Set 9 | sergeyevka\n",
      "Processing Record 13 of Set 9 | cabo san lucas\n",
      "Processing Record 14 of Set 9 | nalut\n",
      "Processing Record 15 of Set 9 | adrar\n",
      "Processing Record 16 of Set 9 | fort nelson\n",
      "Processing Record 17 of Set 9 | amapa\n",
      "Processing Record 18 of Set 9 | sines\n",
      "City not found. Skipping...\n",
      "Processing Record 19 of Set 9 | abapo\n",
      "Processing Record 20 of Set 9 | vestmanna\n",
      "Processing Record 21 of Set 9 | kloulklubed\n",
      "City not found. Skipping...\n",
      "Processing Record 22 of Set 9 | ilhabela\n",
      "Processing Record 23 of Set 9 | logan lake\n",
      "Processing Record 24 of Set 9 | meoqui\n",
      "Processing Record 25 of Set 9 | agadez\n",
      "Processing Record 26 of Set 9 | peachland\n",
      "Processing Record 27 of Set 9 | chapais\n",
      "Processing Record 28 of Set 9 | aktash\n",
      "Processing Record 29 of Set 9 | komsomolskiy\n",
      "Processing Record 30 of Set 9 | puerto leguizamo\n",
      "Processing Record 31 of Set 9 | aasiaat\n",
      "Processing Record 32 of Set 9 | krasnogorodsk\n",
      "Processing Record 33 of Set 9 | waingapu\n",
      "Processing Record 34 of Set 9 | sapa\n",
      "Processing Record 35 of Set 9 | caucaia\n",
      "Processing Record 36 of Set 9 | dombarovskiy\n",
      "Processing Record 37 of Set 9 | norman wells\n",
      "Processing Record 38 of Set 9 | baruun-urt\n",
      "Processing Record 39 of Set 9 | mirante do paranapanema\n",
      "Processing Record 40 of Set 9 | samana\n",
      "Processing Record 41 of Set 9 | alugan\n",
      "Processing Record 42 of Set 9 | mazyr\n",
      "Processing Record 43 of Set 9 | beira\n",
      "Processing Record 44 of Set 9 | port-cartier\n",
      "Processing Record 45 of Set 9 | santo domingo\n",
      "Processing Record 46 of Set 9 | filimonovo\n",
      "City not found. Skipping...\n",
      "Processing Record 47 of Set 9 | hobyo\n",
      "Processing Record 48 of Set 9 | hurghada\n",
      "City not found. Skipping...\n",
      "Processing Record 49 of Set 9 | leiyang\n",
      "Processing Record 1 of Set 10 | jaguarari\n",
      "Processing Record 2 of Set 10 | morropon\n",
      "Processing Record 3 of Set 10 | magadi\n",
      "Processing Record 4 of Set 10 | eureka\n",
      "City not found. Skipping...\n",
      "Processing Record 5 of Set 10 | dologon\n",
      "Processing Record 6 of Set 10 | borogontsy\n",
      "Processing Record 7 of Set 10 | castanos\n",
      "Processing Record 8 of Set 10 | mae sai\n",
      "Processing Record 9 of Set 10 | axim\n",
      "Processing Record 10 of Set 10 | kita\n",
      "Processing Record 11 of Set 10 | berezovyy\n",
      "Processing Record 12 of Set 10 | hazorasp\n",
      "Processing Record 13 of Set 10 | houma\n",
      "Processing Record 14 of Set 10 | svetlyy\n",
      "Processing Record 15 of Set 10 | zheshart\n",
      "Processing Record 16 of Set 10 | santiago de chuco\n",
      "Processing Record 17 of Set 10 | novoanninskiy\n",
      "Processing Record 18 of Set 10 | bereda\n",
      "Processing Record 19 of Set 10 | quelimane\n",
      "Processing Record 20 of Set 10 | san cristobal\n",
      "Processing Record 21 of Set 10 | nova vicosa\n",
      "Processing Record 22 of Set 10 | prince rupert\n",
      "Processing Record 23 of Set 10 | alepe\n",
      "Processing Record 24 of Set 10 | acapulco\n",
      "Processing Record 25 of Set 10 | zhigansk\n",
      "Processing Record 26 of Set 10 | virginia beach\n",
      "Processing Record 27 of Set 10 | acari\n",
      "Processing Record 28 of Set 10 | husavik\n",
      "Processing Record 29 of Set 10 | nome\n",
      "Processing Record 30 of Set 10 | alihe\n",
      "Processing Record 31 of Set 10 | porterville\n",
      "Processing Record 32 of Set 10 | talara\n",
      "Processing Record 33 of Set 10 | santa maria\n",
      "Processing Record 34 of Set 10 | atagay\n",
      "Processing Record 35 of Set 10 | westerland\n",
      "Processing Record 36 of Set 10 | gat\n",
      "Processing Record 37 of Set 10 | blagoveshchenka\n",
      "Processing Record 38 of Set 10 | gao\n",
      "Processing Record 39 of Set 10 | rundu\n",
      "Processing Record 40 of Set 10 | muromtsevo\n",
      "Processing Record 41 of Set 10 | manggar\n",
      "Processing Record 42 of Set 10 | mountain home\n",
      "Processing Record 43 of Set 10 | sunnyside\n",
      "Processing Record 44 of Set 10 | huron\n",
      "Processing Record 45 of Set 10 | dzaoudzi\n",
      "Processing Record 46 of Set 10 | payo\n",
      "Processing Record 47 of Set 10 | pombas\n",
      "City not found. Skipping...\n",
      "Processing Record 48 of Set 10 | moranbah\n",
      "City not found. Skipping...\n",
      "Processing Record 49 of Set 10 | katav-ivanovsk\n",
      "Processing Record 1 of Set 11 | kirakira\n",
      "Processing Record 2 of Set 11 | ketchikan\n",
      "Processing Record 3 of Set 11 | canberra\n",
      "Processing Record 4 of Set 11 | hailar\n",
      "Processing Record 5 of Set 11 | malatya\n",
      "Processing Record 6 of Set 11 | changping\n",
      "Processing Record 7 of Set 11 | berlevag\n",
      "Processing Record 8 of Set 11 | port keats\n",
      "Processing Record 9 of Set 11 | dabakala\n",
      "Processing Record 10 of Set 11 | bushtyno\n",
      "Processing Record 11 of Set 11 | nyurba\n",
      "Processing Record 12 of Set 11 | varhaug\n",
      "Processing Record 13 of Set 11 | port arthur\n",
      "Processing Record 14 of Set 11 | fujin\n",
      "Processing Record 15 of Set 11 | america dourada\n",
      "City not found. Skipping...\n",
      "Processing Record 16 of Set 11 | san patricio\n",
      "Processing Record 17 of Set 11 | constitucion\n",
      "Processing Record 18 of Set 11 | itarema\n",
      "City not found. Skipping...\n",
      "Processing Record 19 of Set 11 | ippy\n",
      "Processing Record 20 of Set 11 | dunedin\n",
      "Processing Record 21 of Set 11 | iwanai\n",
      "Processing Record 22 of Set 11 | kotel\n",
      "Processing Record 23 of Set 11 | saint-leu\n",
      "City not found. Skipping...\n",
      "Processing Record 24 of Set 11 | sabla\n",
      "Processing Record 25 of Set 11 | gap\n",
      "Processing Record 26 of Set 11 | pangkalanbuun\n",
      "Processing Record 27 of Set 11 | auki\n",
      "Processing Record 28 of Set 11 | sola\n",
      "City not found. Skipping...\n",
      "Processing Record 29 of Set 11 | mmabatho\n",
      "Processing Record 30 of Set 11 | amahai\n",
      "City not found. Skipping...\n",
      "Processing Record 31 of Set 11 | mangaluru\n",
      "Processing Record 32 of Set 11 | north bend\n",
      "Processing Record 33 of Set 11 | sucua\n",
      "Processing Record 34 of Set 11 | solok\n",
      "Processing Record 35 of Set 11 | campana\n",
      "Processing Record 36 of Set 11 | abdulino\n",
      "Processing Record 37 of Set 11 | clinton\n",
      "Processing Record 38 of Set 11 | mecca\n",
      "Processing Record 39 of Set 11 | lokosovo\n",
      "Processing Record 40 of Set 11 | karachev\n",
      "Processing Record 41 of Set 11 | daru\n",
      "Processing Record 42 of Set 11 | okha\n",
      "Processing Record 43 of Set 11 | tabas\n",
      "Processing Record 44 of Set 11 | broome\n",
      "Processing Record 45 of Set 11 | harper\n",
      "Processing Record 46 of Set 11 | kankaanpaa\n",
      "Processing Record 47 of Set 11 | mut\n",
      "Processing Record 48 of Set 11 | ahipara\n",
      "Processing Record 49 of Set 11 | arica\n",
      "Processing Record 1 of Set 12 | gopinathpur\n",
      "City not found. Skipping...\n",
      "Processing Record 2 of Set 12 | ekhabi\n",
      "Processing Record 3 of Set 12 | port macquarie\n",
      "Processing Record 4 of Set 12 | puerto cortes\n",
      "Processing Record 5 of Set 12 | asau\n",
      "Processing Record 6 of Set 12 | akdepe\n",
      "City not found. Skipping...\n",
      "Processing Record 7 of Set 12 | almeirim\n",
      "Processing Record 8 of Set 12 | evensk\n",
      "Processing Record 9 of Set 12 | dubovka\n",
      "Processing Record 10 of Set 12 | maniitsoq\n",
      "Processing Record 11 of Set 12 | praya\n",
      "City not found. Skipping...\n",
      "Processing Record 12 of Set 12 | kokstad\n",
      "Processing Record 13 of Set 12 | ilebo\n",
      "Processing Record 14 of Set 12 | kalmunai\n",
      "Processing Record 15 of Set 12 | nenjiang\n",
      "Processing Record 16 of Set 12 | rincon\n",
      "Processing Record 17 of Set 12 | valdivia\n",
      "Processing Record 18 of Set 12 | yantzaza\n"
     ]
    },
    {
     "name": "stdout",
     "output_type": "stream",
     "text": [
      "Processing Record 19 of Set 12 | dera bugti\n",
      "Processing Record 20 of Set 12 | cozumel\n",
      "Processing Record 21 of Set 12 | touros\n",
      "Processing Record 22 of Set 12 | shirokiy\n",
      "Processing Record 23 of Set 12 | griffith\n",
      "Processing Record 24 of Set 12 | mitu\n",
      "Processing Record 25 of Set 12 | saint-pierre\n",
      "Processing Record 26 of Set 12 | koumac\n",
      "Processing Record 27 of Set 12 | porto novo\n",
      "Processing Record 28 of Set 12 | camacha\n",
      "Processing Record 29 of Set 12 | puerto baquerizo moreno\n",
      "------------------------------\n",
      "Data Retrieval Complete\n",
      "------------------------------\n"
     ]
    }
   ],
   "source": [
    "# set lists for the dataframe\n",
    "city_two = []\n",
    "cloudinesses = []\n",
    "dates = []\n",
    "humidities = []\n",
    "lats = []\n",
    "lngs = []\n",
    "max_temps = []\n",
    "wind_speeds = []\n",
    "countries = []\n",
    "\n",
    "# set initial count quantities for organization\n",
    "count_one = 0\n",
    "set_one = 1\n",
    "\n",
    "# loops for creating dataframe columns\n",
    "for city in cities:\n",
    "    try:\n",
    "        response = requests.get(query_url + city.replace(\" \",\"&\")).json()\n",
    "        cloudinesses.append(response['clouds']['all'])\n",
    "        countries.append(response['sys']['country'])\n",
    "        dates.append(response['dt'])\n",
    "        humidities.append(response['main']['humidity'])\n",
    "        lats.append(response['coord']['lat'])\n",
    "        lngs.append(response['coord']['lon'])\n",
    "        max_temps.append(response['main']['temp_max'])\n",
    "        wind_speeds.append(response['wind']['speed'])\n",
    "        if count_one > 48:\n",
    "            count_one = 1\n",
    "            set_one += 1\n",
    "            city_two.append(city)\n",
    "        else:\n",
    "            count_one += 1\n",
    "            city_two.append(city)\n",
    "        print(f\"Processing Record {count_one} of Set {set_one} | {city}\")\n",
    "    except Exception:\n",
    "        print(\"City not found. Skipping...\")\n",
    "print(\"------------------------------\\nData Retrieval Complete\\n------------------------------\")\n"
   ]
  },
  {
   "cell_type": "markdown",
   "metadata": {},
   "source": [
    "### Convert Raw Data to DataFrame\n",
    "* Export the city data into a .csv.\n",
    "* Display the DataFrame"
   ]
  },
  {
   "cell_type": "code",
   "execution_count": 5,
   "metadata": {},
   "outputs": [],
   "source": [
    "# create a dictionary for establishing dataframe\n",
    "weather_dict = {\n",
    "    \"City\":city_two,\n",
    "    \"Cloudiness\":cloudinesses,\n",
    "    \"Country\":countries,\n",
    "    \"Date\":dates,\n",
    "    \"Humidity\":humidities,\n",
    "    \"Lat\":lats,\n",
    "    \"Lng\":lngs,\n",
    "    \"Max Temp\":max_temps,\n",
    "    \"Wind Speed\":wind_speeds\n",
    "}"
   ]
  },
  {
   "cell_type": "code",
   "execution_count": 6,
   "metadata": {},
   "outputs": [],
   "source": [
    "# establish dataframe\n",
    "weather_dataframe = pd.DataFrame(weather_dict)"
   ]
  },
  {
   "cell_type": "code",
   "execution_count": 7,
   "metadata": {},
   "outputs": [
    {
     "data": {
      "text/html": [
       "<div>\n",
       "<style scoped>\n",
       "    .dataframe tbody tr th:only-of-type {\n",
       "        vertical-align: middle;\n",
       "    }\n",
       "\n",
       "    .dataframe tbody tr th {\n",
       "        vertical-align: top;\n",
       "    }\n",
       "\n",
       "    .dataframe thead th {\n",
       "        text-align: right;\n",
       "    }\n",
       "</style>\n",
       "<table border=\"1\" class=\"dataframe\">\n",
       "  <thead>\n",
       "    <tr style=\"text-align: right;\">\n",
       "      <th></th>\n",
       "      <th>City</th>\n",
       "      <th>Cloudiness</th>\n",
       "      <th>Country</th>\n",
       "      <th>Date</th>\n",
       "      <th>Humidity</th>\n",
       "      <th>Lat</th>\n",
       "      <th>Lng</th>\n",
       "      <th>Max Temp</th>\n",
       "      <th>Wind Speed</th>\n",
       "    </tr>\n",
       "  </thead>\n",
       "  <tbody>\n",
       "    <tr>\n",
       "      <th>0</th>\n",
       "      <td>hamilton</td>\n",
       "      <td>1</td>\n",
       "      <td>US</td>\n",
       "      <td>1590338694</td>\n",
       "      <td>69</td>\n",
       "      <td>39.18</td>\n",
       "      <td>-84.53</td>\n",
       "      <td>84.99</td>\n",
       "      <td>3.36</td>\n",
       "    </tr>\n",
       "    <tr>\n",
       "      <th>1</th>\n",
       "      <td>mattoon</td>\n",
       "      <td>1</td>\n",
       "      <td>US</td>\n",
       "      <td>1590338718</td>\n",
       "      <td>69</td>\n",
       "      <td>39.48</td>\n",
       "      <td>-88.37</td>\n",
       "      <td>84.00</td>\n",
       "      <td>5.82</td>\n",
       "    </tr>\n",
       "    <tr>\n",
       "      <th>2</th>\n",
       "      <td>yellowknife</td>\n",
       "      <td>20</td>\n",
       "      <td>CA</td>\n",
       "      <td>1590338718</td>\n",
       "      <td>59</td>\n",
       "      <td>62.46</td>\n",
       "      <td>-114.35</td>\n",
       "      <td>39.00</td>\n",
       "      <td>2.24</td>\n",
       "    </tr>\n",
       "    <tr>\n",
       "      <th>3</th>\n",
       "      <td>albany</td>\n",
       "      <td>100</td>\n",
       "      <td>US</td>\n",
       "      <td>1590338666</td>\n",
       "      <td>33</td>\n",
       "      <td>42.60</td>\n",
       "      <td>-73.97</td>\n",
       "      <td>70.00</td>\n",
       "      <td>9.19</td>\n",
       "    </tr>\n",
       "    <tr>\n",
       "      <th>4</th>\n",
       "      <td>hobart</td>\n",
       "      <td>90</td>\n",
       "      <td>AU</td>\n",
       "      <td>1590338718</td>\n",
       "      <td>75</td>\n",
       "      <td>-42.88</td>\n",
       "      <td>147.33</td>\n",
       "      <td>46.40</td>\n",
       "      <td>8.05</td>\n",
       "    </tr>\n",
       "  </tbody>\n",
       "</table>\n",
       "</div>"
      ],
      "text/plain": [
       "          City  Cloudiness Country        Date  Humidity    Lat     Lng  \\\n",
       "0     hamilton           1      US  1590338694        69  39.18  -84.53   \n",
       "1      mattoon           1      US  1590338718        69  39.48  -88.37   \n",
       "2  yellowknife          20      CA  1590338718        59  62.46 -114.35   \n",
       "3       albany         100      US  1590338666        33  42.60  -73.97   \n",
       "4       hobart          90      AU  1590338718        75 -42.88  147.33   \n",
       "\n",
       "   Max Temp  Wind Speed  \n",
       "0     84.99        3.36  \n",
       "1     84.00        5.82  \n",
       "2     39.00        2.24  \n",
       "3     70.00        9.19  \n",
       "4     46.40        8.05  "
      ]
     },
     "execution_count": 7,
     "metadata": {},
     "output_type": "execute_result"
    }
   ],
   "source": [
    "# show the top of the dataframe\n",
    "weather_dataframe.head()"
   ]
  },
  {
   "cell_type": "code",
   "execution_count": 8,
   "metadata": {},
   "outputs": [],
   "source": [
    "# output data to csv\n",
    "weather_dataframe.to_csv(output_data_file)"
   ]
  },
  {
   "cell_type": "code",
   "execution_count": 9,
   "metadata": {},
   "outputs": [
    {
     "data": {
      "text/plain": [
       "City          568\n",
       "Cloudiness    568\n",
       "Country       568\n",
       "Date          568\n",
       "Humidity      568\n",
       "Lat           568\n",
       "Lng           568\n",
       "Max Temp      568\n",
       "Wind Speed    568\n",
       "dtype: int64"
      ]
     },
     "execution_count": 9,
     "metadata": {},
     "output_type": "execute_result"
    }
   ],
   "source": [
    "weather_dataframe.count()"
   ]
  },
  {
   "cell_type": "code",
   "execution_count": 10,
   "metadata": {},
   "outputs": [
    {
     "data": {
      "text/html": [
       "<div>\n",
       "<style scoped>\n",
       "    .dataframe tbody tr th:only-of-type {\n",
       "        vertical-align: middle;\n",
       "    }\n",
       "\n",
       "    .dataframe tbody tr th {\n",
       "        vertical-align: top;\n",
       "    }\n",
       "\n",
       "    .dataframe thead th {\n",
       "        text-align: right;\n",
       "    }\n",
       "</style>\n",
       "<table border=\"1\" class=\"dataframe\">\n",
       "  <thead>\n",
       "    <tr style=\"text-align: right;\">\n",
       "      <th></th>\n",
       "      <th>City</th>\n",
       "      <th>Cloudiness</th>\n",
       "      <th>Country</th>\n",
       "      <th>Date</th>\n",
       "      <th>Humidity</th>\n",
       "      <th>Lat</th>\n",
       "      <th>Lng</th>\n",
       "      <th>Max Temp</th>\n",
       "      <th>Wind Speed</th>\n",
       "    </tr>\n",
       "  </thead>\n",
       "  <tbody>\n",
       "    <tr>\n",
       "      <th>0</th>\n",
       "      <td>hamilton</td>\n",
       "      <td>1</td>\n",
       "      <td>US</td>\n",
       "      <td>1590338694</td>\n",
       "      <td>69</td>\n",
       "      <td>39.18</td>\n",
       "      <td>-84.53</td>\n",
       "      <td>84.99</td>\n",
       "      <td>3.36</td>\n",
       "    </tr>\n",
       "    <tr>\n",
       "      <th>1</th>\n",
       "      <td>mattoon</td>\n",
       "      <td>1</td>\n",
       "      <td>US</td>\n",
       "      <td>1590338718</td>\n",
       "      <td>69</td>\n",
       "      <td>39.48</td>\n",
       "      <td>-88.37</td>\n",
       "      <td>84.00</td>\n",
       "      <td>5.82</td>\n",
       "    </tr>\n",
       "    <tr>\n",
       "      <th>2</th>\n",
       "      <td>yellowknife</td>\n",
       "      <td>20</td>\n",
       "      <td>CA</td>\n",
       "      <td>1590338718</td>\n",
       "      <td>59</td>\n",
       "      <td>62.46</td>\n",
       "      <td>-114.35</td>\n",
       "      <td>39.00</td>\n",
       "      <td>2.24</td>\n",
       "    </tr>\n",
       "    <tr>\n",
       "      <th>3</th>\n",
       "      <td>albany</td>\n",
       "      <td>100</td>\n",
       "      <td>US</td>\n",
       "      <td>1590338666</td>\n",
       "      <td>33</td>\n",
       "      <td>42.60</td>\n",
       "      <td>-73.97</td>\n",
       "      <td>70.00</td>\n",
       "      <td>9.19</td>\n",
       "    </tr>\n",
       "    <tr>\n",
       "      <th>4</th>\n",
       "      <td>hobart</td>\n",
       "      <td>90</td>\n",
       "      <td>AU</td>\n",
       "      <td>1590338718</td>\n",
       "      <td>75</td>\n",
       "      <td>-42.88</td>\n",
       "      <td>147.33</td>\n",
       "      <td>46.40</td>\n",
       "      <td>8.05</td>\n",
       "    </tr>\n",
       "  </tbody>\n",
       "</table>\n",
       "</div>"
      ],
      "text/plain": [
       "          City  Cloudiness Country        Date  Humidity    Lat     Lng  \\\n",
       "0     hamilton           1      US  1590338694        69  39.18  -84.53   \n",
       "1      mattoon           1      US  1590338718        69  39.48  -88.37   \n",
       "2  yellowknife          20      CA  1590338718        59  62.46 -114.35   \n",
       "3       albany         100      US  1590338666        33  42.60  -73.97   \n",
       "4       hobart          90      AU  1590338718        75 -42.88  147.33   \n",
       "\n",
       "   Max Temp  Wind Speed  \n",
       "0     84.99        3.36  \n",
       "1     84.00        5.82  \n",
       "2     39.00        2.24  \n",
       "3     70.00        9.19  \n",
       "4     46.40        8.05  "
      ]
     },
     "execution_count": 10,
     "metadata": {},
     "output_type": "execute_result"
    }
   ],
   "source": [
    "weather_dataframe.head()"
   ]
  },
  {
   "cell_type": "markdown",
   "metadata": {},
   "source": [
    "## Inspect the data and remove the cities where the humidity > 100%.\n",
    "----\n",
    "Skip this step if there are no cities that have humidity > 100%. "
   ]
  },
  {
   "cell_type": "code",
   "execution_count": 11,
   "metadata": {},
   "outputs": [
    {
     "data": {
      "text/html": [
       "<div>\n",
       "<style scoped>\n",
       "    .dataframe tbody tr th:only-of-type {\n",
       "        vertical-align: middle;\n",
       "    }\n",
       "\n",
       "    .dataframe tbody tr th {\n",
       "        vertical-align: top;\n",
       "    }\n",
       "\n",
       "    .dataframe thead th {\n",
       "        text-align: right;\n",
       "    }\n",
       "</style>\n",
       "<table border=\"1\" class=\"dataframe\">\n",
       "  <thead>\n",
       "    <tr style=\"text-align: right;\">\n",
       "      <th></th>\n",
       "      <th>City</th>\n",
       "      <th>Cloudiness</th>\n",
       "      <th>Country</th>\n",
       "      <th>Date</th>\n",
       "      <th>Humidity</th>\n",
       "      <th>Lat</th>\n",
       "      <th>Lng</th>\n",
       "      <th>Max Temp</th>\n",
       "      <th>Wind Speed</th>\n",
       "    </tr>\n",
       "  </thead>\n",
       "  <tbody>\n",
       "  </tbody>\n",
       "</table>\n",
       "</div>"
      ],
      "text/plain": [
       "Empty DataFrame\n",
       "Columns: [City, Cloudiness, Country, Date, Humidity, Lat, Lng, Max Temp, Wind Speed]\n",
       "Index: []"
      ]
     },
     "execution_count": 11,
     "metadata": {},
     "output_type": "execute_result"
    }
   ],
   "source": [
    "#  Get the indices of cities that have humidity over 100%.\n",
    "\n",
    "cities_df=weather_dataframe.loc[weather_dataframe['Humidity']>100]\n",
    "cities_df.head()"
   ]
  },
  {
   "cell_type": "code",
   "execution_count": 12,
   "metadata": {},
   "outputs": [],
   "source": [
    "# there was no city with humidity > 100% as seen above and therefore, no result was turned in."
   ]
  },
  {
   "cell_type": "markdown",
   "metadata": {},
   "source": [
    "## Plotting the Data\n",
    "* Use proper labeling of the plots using plot titles (including date of analysis) and axes labels.\n",
    "* Save the plotted figures as .pngs."
   ]
  },
  {
   "cell_type": "markdown",
   "metadata": {},
   "source": [
    "## Latitude vs. Temperature Plot"
   ]
  },
  {
   "cell_type": "code",
   "execution_count": 13,
   "metadata": {
    "scrolled": true
   },
   "outputs": [
    {
     "data": {
      "image/png": "[encoded data removed]",
      "text/plain": [
       "<Figure size 432x288 with 1 Axes>"
      ]
     },
     "metadata": {
      "needs_background": "light"
     },
     "output_type": "display_data"
    }
   ],
   "source": [
    "plt.scatter(weather_dataframe[\"Lat\"],weather_dataframe[\"Max Temp\"],edgecolors=\"black\",facecolors=\"skyblue\")\n",
    "plt.title(\"City Latitude vs. Max Temperature (01/07/19)\")\n",
    "plt.xlabel(\"Latitude\")\n",
    "plt.ylabel(\"Max Temperature (F)\")\n",
    "plt.grid (b=True,which=\"major\",axis=\"both\",linestyle=\"-\",color=\"lightgrey\")\n",
    "plt.show()"
   ]
  },
  {
   "cell_type": "markdown",
   "metadata": {},
   "source": [
    "## Latitude vs. Humidity Plot"
   ]
  },
  {
   "cell_type": "code",
   "execution_count": 14,
   "metadata": {},
   "outputs": [
    {
     "data": {
      "image/png": "[encoded data removed]",
      "text/plain": [
       "<Figure size 432x288 with 1 Axes>"
      ]
     },
     "metadata": {
      "needs_background": "light"
     },
     "output_type": "display_data"
    }
   ],
   "source": [
    "plt.scatter(weather_dataframe[\"Lat\"],weather_dataframe[\"Humidity\"],edgecolors=\"black\",facecolors=\"skyblue\")\n",
    "plt.title(\"City Latitude vs. Humidity (01/07/19)\")\n",
    "plt.xlabel(\"Latitude\")\n",
    "plt.ylabel(\"Humidity (%)\")\n",
    "plt.ylim(15,105)\n",
    "plt.grid (b=True,which=\"major\",axis=\"both\",linestyle=\"-\",color=\"lightgrey\")\n",
    "plt.show()"
   ]
  },
  {
   "cell_type": "markdown",
   "metadata": {},
   "source": [
    "## Latitude vs. Cloudiness Plot"
   ]
  },
  {
   "cell_type": "code",
   "execution_count": 15,
   "metadata": {},
   "outputs": [
    {
     "data": {
      "image/png": "[encoded data removed]",
      "text/plain": [
       "<Figure size 432x288 with 1 Axes>"
      ]
     },
     "metadata": {
      "needs_background": "light"
     },
     "output_type": "display_data"
    }
   ],
   "source": [
    "plt.scatter(weather_dataframe[\"Lat\"],weather_dataframe[\"Cloudiness\"],edgecolors=\"black\",facecolors=\"skyblue\")\n",
    "plt.title(\"City Latitude vs. Cloudiness (01/07/19)\")\n",
    "plt.xlabel(\"Latitude\")\n",
    "plt.ylabel(\"Cloudiness (%)\")\n",
    "plt.grid (b=True,which=\"major\",axis=\"both\",linestyle=\"-\",color=\"lightgrey\")\n",
    "plt.show()"
   ]
  },
  {
   "cell_type": "markdown",
   "metadata": {},
   "source": [
    "## Latitude vs. Wind Speed Plot"
   ]
  },
  {
   "cell_type": "code",
   "execution_count": 16,
   "metadata": {},
   "outputs": [
    {
     "data": {
      "image/png": "[encoded data removed]",
      "text/plain": [
       "<Figure size 432x288 with 1 Axes>"
      ]
     },
     "metadata": {
      "needs_background": "light"
     },
     "output_type": "display_data"
    }
   ],
   "source": [
    "plt.scatter(weather_dataframe[\"Lat\"],weather_dataframe[\"Wind Speed\"],edgecolors=\"black\",facecolors=\"skyblue\")\n",
    "plt.title(\"City Latitude vs. Wind Speed (01/07/19)\")\n",
    "plt.xlabel(\"Latitude\")\n",
    "plt.ylabel(\"Wind Speed (mph)\")\n",
    "plt.ylim(-2,34)\n",
    "plt.grid (b=True,which=\"major\",axis=\"both\",linestyle=\"-\",color=\"lightgrey\")\n",
    "plt.show()"
   ]
  },
  {
   "cell_type": "markdown",
   "metadata": {},
   "source": [
    "## Linear Regression"
   ]
  },
  {
   "cell_type": "code",
   "execution_count": 17,
   "metadata": {},
   "outputs": [],
   "source": [
    "# OPTIONAL: Create a function to create Linear Regression plots"
   ]
  },
  {
   "cell_type": "code",
   "execution_count": 18,
   "metadata": {},
   "outputs": [],
   "source": [
    "# Create Northern and Southern Hemisphere DataFrames\n"
   ]
  },
  {
   "cell_type": "markdown",
   "metadata": {},
   "source": [
    "####  Northern Hemisphere - Max Temp vs. Latitude Linear Regression"
   ]
  },
  {
   "cell_type": "code",
   "execution_count": 19,
   "metadata": {},
   "outputs": [
    {
     "name": "stdout",
     "output_type": "stream",
     "text": [
      "0      39.18\n",
      "1      39.48\n",
      "2      62.46\n",
      "3      42.60\n",
      "4      42.10\n",
      "       ...  \n",
      "401    41.53\n",
      "402     1.20\n",
      "403    41.15\n",
      "404    33.08\n",
      "405    36.59\n",
      "Name: Lat, Length: 406, dtype: float64\n"
     ]
    }
   ],
   "source": [
    "lat_df = weather_dataframe.loc[weather_dataframe['Lat']>=0,\"Lat\"]\n",
    "lat_df= lat_df.reset_index()\n",
    "x_values = lat_df[\"Lat\"]\n",
    "print(x_values)"
   ]
  },
  {
   "cell_type": "code",
   "execution_count": 20,
   "metadata": {},
   "outputs": [
    {
     "name": "stdout",
     "output_type": "stream",
     "text": [
      "0      84.99\n",
      "1      84.00\n",
      "2      39.00\n",
      "3      70.00\n",
      "5      79.00\n",
      "       ...  \n",
      "561    82.99\n",
      "562    74.88\n",
      "565    80.01\n",
      "566    77.00\n",
      "567    91.40\n",
      "Name: Max Temp, Length: 406, dtype: float64\n"
     ]
    }
   ],
   "source": [
    "max_temp_df = weather_dataframe.loc[weather_dataframe['Lat']>=0,'Max Temp']\n",
    "max_temp_df\n",
    "y_values = max_temp_df\n",
    "print(y_values)"
   ]
  },
  {
   "cell_type": "code",
   "execution_count": 21,
   "metadata": {},
   "outputs": [
    {
     "name": "stdout",
     "output_type": "stream",
     "text": [
      "The r-squared is: -0.8026860101172247\n"
     ]
    },
    {
     "data": {
      "image/png": "[encoded data removed]",
      "text/plain": [
       "<Figure size 432x288 with 1 Axes>"
      ]
     },
     "metadata": {
      "needs_background": "light"
     },
     "output_type": "display_data"
    }
   ],
   "source": [
    "(slope, intercept, rvalue, pvalue, stderr) = linregress(x_values, y_values)\n",
    "regress_values = x_values * slope + intercept\n",
    "line_eq = \"y = \" + str(round(slope,2)) + \"x + \" + str(round(intercept,2))\n",
    "plt.scatter(x_values,y_values)\n",
    "plt.plot(x_values,regress_values,\"r\")\n",
    "plt.annotate(line_eq,(0,50),fontsize=15,color=\"red\")\n",
    "plt.xlabel('Latitude')\n",
    "plt.ylabel('Max Temp')\n",
    "print(f\"The r-squared is: {rvalue}\")\n",
    "plt.show()"
   ]
  },
  {
   "cell_type": "markdown",
   "metadata": {},
   "source": [
    "####  Southern Hemisphere - Max Temp vs. Latitude Linear Regression"
   ]
  },
  {
   "cell_type": "code",
   "execution_count": 22,
   "metadata": {},
   "outputs": [
    {
     "name": "stdout",
     "output_type": "stream",
     "text": [
      "0     -42.88\n",
      "1      -2.57\n",
      "2     -46.19\n",
      "3     -21.20\n",
      "4     -38.27\n",
      "       ...  \n",
      "157   -39.81\n",
      "158    -3.83\n",
      "159    -5.20\n",
      "160   -21.34\n",
      "161   -20.57\n",
      "Name: Lat, Length: 162, dtype: float64\n"
     ]
    }
   ],
   "source": [
    "lat_df = weather_dataframe.loc[weather_dataframe['Lat']<=0,\"Lat\"]\n",
    "lat_df= lat_df.reset_index()\n",
    "x_values = lat_df[\"Lat\"]\n",
    "print(x_values)"
   ]
  },
  {
   "cell_type": "code",
   "execution_count": 23,
   "metadata": {},
   "outputs": [
    {
     "name": "stdout",
     "output_type": "stream",
     "text": [
      "4      46.40\n",
      "6      81.81\n",
      "8      46.08\n",
      "9      68.00\n",
      "13     50.14\n",
      "       ...  \n",
      "555    62.60\n",
      "556    72.18\n",
      "559    77.00\n",
      "563    71.60\n",
      "564    71.10\n",
      "Name: Max Temp, Length: 162, dtype: float64\n"
     ]
    }
   ],
   "source": [
    "max_temp_df = weather_dataframe.loc[weather_dataframe['Lat']<=0,'Max Temp']\n",
    "max_temp_df\n",
    "y_values = max_temp_df\n",
    "print(y_values)"
   ]
  },
  {
   "cell_type": "code",
   "execution_count": 24,
   "metadata": {},
   "outputs": [
    {
     "name": "stdout",
     "output_type": "stream",
     "text": [
      "The r-squared is: 0.7878265078438116\n"
     ]
    },
    {
     "data": {
      "image/png": "[encoded data removed]",
      "text/plain": [
       "<Figure size 432x288 with 1 Axes>"
      ]
     },
     "metadata": {
      "needs_background": "light"
     },
     "output_type": "display_data"
    }
   ],
   "source": [
    "(slope, intercept, rvalue, pvalue, stderr) = linregress(x_values, y_values)\n",
    "regress_values = x_values * slope + intercept\n",
    "line_eq = \"y = \" + str(round(slope,2)) + \"x + \" + str(round(intercept,2))\n",
    "plt.scatter(x_values,y_values)\n",
    "plt.plot(x_values,regress_values,\"r\")\n",
    "plt.annotate(line_eq,(0,50),fontsize=15,color=\"red\")\n",
    "plt.xlabel('Latitude')\n",
    "plt.ylabel('Max Temp')\n",
    "print(f\"The r-squared is: {rvalue}\")\n",
    "plt.show()"
   ]
  },
  {
   "cell_type": "markdown",
   "metadata": {},
   "source": [
    "####  Northern Hemisphere - Humidity (%) vs. Latitude Linear Regression"
   ]
  },
  {
   "cell_type": "code",
   "execution_count": 25,
   "metadata": {},
   "outputs": [
    {
     "name": "stdout",
     "output_type": "stream",
     "text": [
      "0      39.18\n",
      "1      39.48\n",
      "2      62.46\n",
      "3      42.60\n",
      "4      42.10\n",
      "       ...  \n",
      "401    41.53\n",
      "402     1.20\n",
      "403    41.15\n",
      "404    33.08\n",
      "405    36.59\n",
      "Name: Lat, Length: 406, dtype: float64\n"
     ]
    }
   ],
   "source": [
    "lat_df = weather_dataframe.loc[weather_dataframe['Lat']>=0,\"Lat\"]\n",
    "lat_df= lat_df.reset_index()\n",
    "x_values = lat_df[\"Lat\"]\n",
    "print(x_values)"
   ]
  },
  {
   "cell_type": "code",
   "execution_count": 26,
   "metadata": {},
   "outputs": [
    {
     "name": "stdout",
     "output_type": "stream",
     "text": [
      "0      69\n",
      "1      69\n",
      "2      59\n",
      "3      33\n",
      "5      64\n",
      "       ..\n",
      "561    69\n",
      "562    97\n",
      "565    50\n",
      "566    33\n",
      "567    37\n",
      "Name: Humidity, Length: 406, dtype: int64\n"
     ]
    }
   ],
   "source": [
    "humidity_df = weather_dataframe.loc[weather_dataframe['Lat']>=0,'Humidity']\n",
    "humidity_df\n",
    "y_values = humidity_df\n",
    "print(y_values)"
   ]
  },
  {
   "cell_type": "code",
   "execution_count": 27,
   "metadata": {},
   "outputs": [
    {
     "name": "stdout",
     "output_type": "stream",
     "text": [
      "The r-squared is: 0.18035201334927192\n"
     ]
    },
    {
     "data": {
      "image/png": "[encoded data removed]",
      "text/plain": [
       "<Figure size 432x288 with 1 Axes>"
      ]
     },
     "metadata": {
      "needs_background": "light"
     },
     "output_type": "display_data"
    }
   ],
   "source": [
    "(slope, intercept, rvalue, pvalue, stderr) = linregress(x_values, y_values)\n",
    "regress_values = x_values * slope + intercept\n",
    "line_eq = \"y = \" + str(round(slope,2)) + \"x + \" + str(round(intercept,2))\n",
    "plt.scatter(x_values,y_values)\n",
    "plt.plot(x_values,regress_values,\"r\")\n",
    "plt.annotate(line_eq,(0,50),fontsize=15,color=\"red\")\n",
    "plt.xlabel('Latitude')\n",
    "plt.ylabel('Humidity(%)')\n",
    "print(f\"The r-squared is: {rvalue}\")\n",
    "plt.show()"
   ]
  },
  {
   "cell_type": "markdown",
   "metadata": {},
   "source": [
    "####  Southern Hemisphere - Humidity (%) vs. Latitude Linear Regression"
   ]
  },
  {
   "cell_type": "code",
   "execution_count": 28,
   "metadata": {},
   "outputs": [
    {
     "name": "stdout",
     "output_type": "stream",
     "text": [
      "0     -42.88\n",
      "1      -2.57\n",
      "2     -46.19\n",
      "3     -21.20\n",
      "4     -38.27\n",
      "       ...  \n",
      "157   -39.81\n",
      "158    -3.83\n",
      "159    -5.20\n",
      "160   -21.34\n",
      "161   -20.57\n",
      "Name: Lat, Length: 162, dtype: float64\n"
     ]
    }
   ],
   "source": [
    "lat_df = weather_dataframe.loc[weather_dataframe['Lat']<=0,\"Lat\"]\n",
    "lat_df= lat_df.reset_index()\n",
    "x_values = lat_df[\"Lat\"]\n",
    "print(x_values)"
   ]
  },
  {
   "cell_type": "code",
   "execution_count": 29,
   "metadata": {},
   "outputs": [
    {
     "name": "stdout",
     "output_type": "stream",
     "text": [
      "4      75\n",
      "6      78\n",
      "8      94\n",
      "9      88\n",
      "13     82\n",
      "       ..\n",
      "555    93\n",
      "556    83\n",
      "559    94\n",
      "563    73\n",
      "564    73\n",
      "Name: Humidity, Length: 162, dtype: int64\n"
     ]
    }
   ],
   "source": [
    "humidity_df = weather_dataframe.loc[weather_dataframe['Lat']<=0,'Humidity']\n",
    "humidity_df\n",
    "y_values = humidity_df\n",
    "print(y_values)"
   ]
  },
  {
   "cell_type": "code",
   "execution_count": 30,
   "metadata": {},
   "outputs": [
    {
     "name": "stdout",
     "output_type": "stream",
     "text": [
      "The r-squared is: 0.02324941065730002\n"
     ]
    },
    {
     "data": {
      "image/png": "[encoded data removed]",
      "text/plain": [
       "<Figure size 432x288 with 1 Axes>"
      ]
     },
     "metadata": {
      "needs_background": "light"
     },
     "output_type": "display_data"
    }
   ],
   "source": [
    "(slope, intercept, rvalue, pvalue, stderr) = linregress(x_values, y_values)\n",
    "regress_values = x_values * slope + intercept\n",
    "line_eq = \"y = \" + str(round(slope,2)) + \"x + \" + str(round(intercept,2))\n",
    "plt.scatter(x_values,y_values)\n",
    "plt.plot(x_values,regress_values,\"r\")\n",
    "plt.annotate(line_eq,(0,50),fontsize=15,color=\"red\")\n",
    "plt.xlabel('Latitude')\n",
    "plt.ylabel('Humidity(%)')\n",
    "print(f\"The r-squared is: {rvalue}\")\n",
    "plt.show()"
   ]
  },
  {
   "cell_type": "markdown",
   "metadata": {},
   "source": [
    "####  Northern Hemisphere - Cloudiness (%) vs. Latitude Linear Regression"
   ]
  },
  {
   "cell_type": "code",
   "execution_count": 31,
   "metadata": {},
   "outputs": [
    {
     "name": "stdout",
     "output_type": "stream",
     "text": [
      "0      39.18\n",
      "1      39.48\n",
      "2      62.46\n",
      "3      42.60\n",
      "4      42.10\n",
      "       ...  \n",
      "401    41.53\n",
      "402     1.20\n",
      "403    41.15\n",
      "404    33.08\n",
      "405    36.59\n",
      "Name: Lat, Length: 406, dtype: float64\n"
     ]
    }
   ],
   "source": [
    "lat_df = weather_dataframe.loc[weather_dataframe['Lat']>=0,\"Lat\"]\n",
    "lat_df= lat_df.reset_index()\n",
    "x_values = lat_df[\"Lat\"]\n",
    "print(x_values)"
   ]
  },
  {
   "cell_type": "code",
   "execution_count": 32,
   "metadata": {},
   "outputs": [
    {
     "name": "stdout",
     "output_type": "stream",
     "text": [
      "0        1\n",
      "1        1\n",
      "2       20\n",
      "3      100\n",
      "5       40\n",
      "      ... \n",
      "561      1\n",
      "562    100\n",
      "565     75\n",
      "566     96\n",
      "567      0\n",
      "Name: Cloudiness, Length: 406, dtype: int64\n"
     ]
    }
   ],
   "source": [
    "cloudiness_df = weather_dataframe.loc[weather_dataframe['Lat']>=0,'Cloudiness']\n",
    "cloudiness_df\n",
    "y_values = cloudiness_df\n",
    "print(y_values)"
   ]
  },
  {
   "cell_type": "code",
   "execution_count": 33,
   "metadata": {},
   "outputs": [
    {
     "name": "stdout",
     "output_type": "stream",
     "text": [
      "The r-squared is: 0.1480222062465455\n"
     ]
    },
    {
     "data": {
      "image/png": "[encoded data removed]",
      "text/plain": [
       "<Figure size 432x288 with 1 Axes>"
      ]
     },
     "metadata": {
      "needs_background": "light"
     },
     "output_type": "display_data"
    }
   ],
   "source": [
    "(slope, intercept, rvalue, pvalue, stderr) = linregress(x_values, y_values)\n",
    "regress_values = x_values * slope + intercept\n",
    "line_eq = \"y = \" + str(round(slope,2)) + \"x + \" + str(round(intercept,2))\n",
    "plt.scatter(x_values,y_values)\n",
    "plt.plot(x_values,regress_values,\"r\")\n",
    "plt.annotate(line_eq,(0,50),fontsize=15,color=\"red\")\n",
    "plt.xlabel('Latitude')\n",
    "plt.ylabel('Cloudiness')\n",
    "print(f\"The r-squared is: {rvalue}\")\n",
    "plt.show()"
   ]
  },
  {
   "cell_type": "markdown",
   "metadata": {},
   "source": [
    "####  Southern Hemisphere - Cloudiness (%) vs. Latitude Linear Regression"
   ]
  },
  {
   "cell_type": "code",
   "execution_count": 34,
   "metadata": {},
   "outputs": [
    {
     "name": "stdout",
     "output_type": "stream",
     "text": [
      "0     -42.88\n",
      "1      -2.57\n",
      "2     -46.19\n",
      "3     -21.20\n",
      "4     -38.27\n",
      "       ...  \n",
      "157   -39.81\n",
      "158    -3.83\n",
      "159    -5.20\n",
      "160   -21.34\n",
      "161   -20.57\n",
      "Name: Lat, Length: 162, dtype: float64\n"
     ]
    }
   ],
   "source": [
    "lat_df = weather_dataframe.loc[weather_dataframe['Lat']<=0,\"Lat\"]\n",
    "lat_df= lat_df.reset_index()\n",
    "x_values = lat_df[\"Lat\"]\n",
    "print(x_values)"
   ]
  },
  {
   "cell_type": "code",
   "execution_count": 35,
   "metadata": {},
   "outputs": [
    {
     "name": "stdout",
     "output_type": "stream",
     "text": [
      "4       90\n",
      "6       92\n",
      "8       97\n",
      "9       40\n",
      "13      74\n",
      "      ... \n",
      "555     90\n",
      "556     88\n",
      "559     75\n",
      "563     75\n",
      "564    100\n",
      "Name: Cloudiness, Length: 162, dtype: int64\n"
     ]
    }
   ],
   "source": [
    "cloudiness_df = weather_dataframe.loc[weather_dataframe['Lat']<=0,'Cloudiness']\n",
    "cloudiness_df\n",
    "y_values = cloudiness_df\n",
    "print(y_values)"
   ]
  },
  {
   "cell_type": "code",
   "execution_count": 36,
   "metadata": {},
   "outputs": [
    {
     "name": "stdout",
     "output_type": "stream",
     "text": [
      "The r-squared is: -0.17600675360002327\n"
     ]
    },
    {
     "data": {
      "image/png": "[encoded data removed]",
      "text/plain": [
       "<Figure size 432x288 with 1 Axes>"
      ]
     },
     "metadata": {
      "needs_background": "light"
     },
     "output_type": "display_data"
    }
   ],
   "source": [
    "(slope, intercept, rvalue, pvalue, stderr) = linregress(x_values, y_values)\n",
    "regress_values = x_values * slope + intercept\n",
    "line_eq = \"y = \" + str(round(slope,2)) + \"x + \" + str(round(intercept,2))\n",
    "plt.scatter(x_values,y_values)\n",
    "plt.plot(x_values,regress_values,\"r\")\n",
    "plt.annotate(line_eq,(0,50),fontsize=15,color=\"red\")\n",
    "plt.xlabel('Latitude')\n",
    "plt.ylabel('Cloudiness')\n",
    "print(f\"The r-squared is: {rvalue}\")\n",
    "plt.show()"
   ]
  },
  {
   "cell_type": "markdown",
   "metadata": {},
   "source": [
    "####  Northern Hemisphere - Wind Speed (mph) vs. Latitude Linear Regression"
   ]
  },
  {
   "cell_type": "code",
   "execution_count": 37,
   "metadata": {},
   "outputs": [
    {
     "name": "stdout",
     "output_type": "stream",
     "text": [
      "0      39.18\n",
      "1      39.48\n",
      "2      62.46\n",
      "3      42.60\n",
      "4      42.10\n",
      "       ...  \n",
      "401    41.53\n",
      "402     1.20\n",
      "403    41.15\n",
      "404    33.08\n",
      "405    36.59\n",
      "Name: Lat, Length: 406, dtype: float64\n"
     ]
    }
   ],
   "source": [
    "lat_df = weather_dataframe.loc[weather_dataframe['Lat']>=0,\"Lat\"]\n",
    "lat_df= lat_df.reset_index()\n",
    "x_values = lat_df[\"Lat\"]\n",
    "print(x_values)"
   ]
  },
  {
   "cell_type": "code",
   "execution_count": 38,
   "metadata": {},
   "outputs": [
    {
     "name": "stdout",
     "output_type": "stream",
     "text": [
      "0       3.36\n",
      "1       5.82\n",
      "2       2.24\n",
      "3       9.19\n",
      "5      16.11\n",
      "       ...  \n",
      "561     6.71\n",
      "562     2.24\n",
      "565    10.29\n",
      "566    17.22\n",
      "567    13.87\n",
      "Name: Wind Speed, Length: 406, dtype: float64\n"
     ]
    }
   ],
   "source": [
    "wind_speed_df = weather_dataframe.loc[weather_dataframe['Lat']>=0,'Wind Speed']\n",
    "wind_speed_df\n",
    "y_values = wind_speed_df\n",
    "print(y_values)"
   ]
  },
  {
   "cell_type": "code",
   "execution_count": 39,
   "metadata": {},
   "outputs": [
    {
     "name": "stdout",
     "output_type": "stream",
     "text": [
      "The r-squared is: 0.0065861603801302526\n"
     ]
    },
    {
     "data": {
      "image/png": "[encoded data removed]",
      "text/plain": [
       "<Figure size 432x288 with 1 Axes>"
      ]
     },
     "metadata": {
      "needs_background": "light"
     },
     "output_type": "display_data"
    }
   ],
   "source": [
    "(slope, intercept, rvalue, pvalue, stderr) = linregress(x_values, y_values)\n",
    "regress_values = x_values * slope + intercept\n",
    "line_eq = \"y = \" + str(round(slope,2)) + \"x + \" + str(round(intercept,2))\n",
    "plt.scatter(x_values,y_values)\n",
    "plt.plot(x_values,regress_values,\"r\")\n",
    "plt.annotate(line_eq,(0,15),fontsize=15,color=\"red\")\n",
    "plt.xlabel('Latitude')\n",
    "plt.ylabel('Wind speed')\n",
    "print(f\"The r-squared is: {rvalue}\")\n",
    "plt.show()"
   ]
  },
  {
   "cell_type": "markdown",
   "metadata": {},
   "source": [
    "####  Southern Hemisphere - Wind Speed (mph) vs. Latitude Linear Regression"
   ]
  },
  {
   "cell_type": "code",
   "execution_count": 40,
   "metadata": {},
   "outputs": [
    {
     "name": "stdout",
     "output_type": "stream",
     "text": [
      "0     -42.88\n",
      "1      -2.57\n",
      "2     -46.19\n",
      "3     -21.20\n",
      "4     -38.27\n",
      "       ...  \n",
      "157   -39.81\n",
      "158    -3.83\n",
      "159    -5.20\n",
      "160   -21.34\n",
      "161   -20.57\n",
      "Name: Lat, Length: 162, dtype: float64\n"
     ]
    }
   ],
   "source": [
    "lat_df = weather_dataframe.loc[weather_dataframe['Lat']<=0,\"Lat\"]\n",
    "lat_df= lat_df.reset_index()\n",
    "x_values = lat_df[\"Lat\"]\n",
    "print(x_values)"
   ]
  },
  {
   "cell_type": "code",
   "execution_count": 41,
   "metadata": {},
   "outputs": [
    {
     "name": "stdout",
     "output_type": "stream",
     "text": [
      "4       8.05\n",
      "6       1.03\n",
      "8       0.96\n",
      "9       4.70\n",
      "13      7.11\n",
      "       ...  \n",
      "555     9.17\n",
      "556     0.65\n",
      "559     5.82\n",
      "563    10.29\n",
      "564    13.96\n",
      "Name: Wind Speed, Length: 162, dtype: float64\n"
     ]
    }
   ],
   "source": [
    "wind_speed_df = weather_dataframe.loc[weather_dataframe['Lat']<=0,'Wind Speed']\n",
    "wind_speed_df\n",
    "y_values = wind_speed_df\n",
    "print(y_values)"
   ]
  },
  {
   "cell_type": "code",
   "execution_count": 42,
   "metadata": {},
   "outputs": [
    {
     "name": "stdout",
     "output_type": "stream",
     "text": [
      "The r-squared is: -0.21805768469834355\n"
     ]
    },
    {
     "data": {
      "image/png": "[encoded data removed]",
      "text/plain": [
       "<Figure size 432x288 with 1 Axes>"
      ]
     },
     "metadata": {
      "needs_background": "light"
     },
     "output_type": "display_data"
    }
   ],
   "source": [
    "(slope, intercept, rvalue, pvalue, stderr) = linregress(x_values, y_values)\n",
    "regress_values = x_values * slope + intercept\n",
    "line_eq = \"y = \" + str(round(slope,2)) + \"x + \" + str(round(intercept,2))\n",
    "plt.scatter(x_values,y_values)\n",
    "plt.plot(x_values,regress_values,\"r\")\n",
    "plt.annotate(line_eq,(0,15),fontsize=15,color=\"red\")\n",
    "plt.xlabel('Latitude')\n",
    "plt.ylabel('Wind speed')\n",
    "print(f\"The r-squared is: {rvalue}\")\n",
    "plt.show()"
   ]
  }
 ],
 "metadata": {
  "anaconda-cloud": {},
  "kernel_info": {
   "name": "python3"
  },
  "kernelspec": {
   "display_name": "Python 3",
   "language": "python",
   "name": "python3"
  },
  "language_info": {
   "codemirror_mode": {
    "name": "ipython",
    "version": 3
   },
   "file_extension": ".py",
   "mimetype": "text/x-python",
   "name": "python",
   "nbconvert_exporter": "python",
   "pygments_lexer": "ipython3",
   "version": "3.7.6"
  },
  "latex_envs": {
   "LaTeX_envs_menu_present": true,
   "autoclose": false,
   "autocomplete": true,
   "bibliofile": "biblio.bib",
   "cite_by": "apalike",
   "current_citInitial": 1,
   "eqLabelWithNumbers": true,
   "eqNumInitial": 1,
   "hotkeys": {
    "equation": "Ctrl-E",
    "itemize": "Ctrl-I"
   },
   "labels_anchors": false,
   "latex_user_defs": false,
   "report_style_numbering": false,
   "user_envs_cfg": false
  },
  "nteract": {
   "version": "0.12.3"
  }
 },
 "nbformat": 4,
 "nbformat_minor": 2
}
